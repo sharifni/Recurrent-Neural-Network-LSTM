{
 "cells": [
  {
   "cell_type": "code",
   "execution_count": 3,
   "metadata": {},
   "outputs": [
    {
     "name": "stderr",
     "output_type": "stream",
     "text": [
      "Using TensorFlow backend.\n"
     ]
    }
   ],
   "source": [
    "import pandas as pd\n",
    "import numpy as np\n",
    "import matplotlib.pyplot as plt\n",
    "import keras\n",
    "import sklearn\n",
    "import tensorflow\n",
    "%matplotlib inline\n",
    "plt.rcParams['figure.figsize'] =14,8"
   ]
  },
  {
   "cell_type": "code",
   "execution_count": 4,
   "metadata": {
    "collapsed": true
   },
   "outputs": [],
   "source": [
    "import os\n",
    "os.chdir('C:\\\\Users\\\\Sharif Niyaz\\\\Documents\\\\jupyter_notebook\\\\machine-learning\\\\deep-learning\\\\RecurrentNeuralNetwork-LSTM')\n",
    "import warnings\n",
    "warnings.filterwarnings('ignore')"
   ]
  },
  {
   "cell_type": "markdown",
   "metadata": {},
   "source": [
    "### STEP 1: Loading Dataset of Mid cap technology stock - Teradata"
   ]
  },
  {
   "cell_type": "code",
   "execution_count": 5,
   "metadata": {},
   "outputs": [
    {
     "data": {
      "text/html": [
       "<div>\n",
       "<style>\n",
       "    .dataframe thead tr:only-child th {\n",
       "        text-align: right;\n",
       "    }\n",
       "\n",
       "    .dataframe thead th {\n",
       "        text-align: left;\n",
       "    }\n",
       "\n",
       "    .dataframe tbody tr th {\n",
       "        vertical-align: top;\n",
       "    }\n",
       "</style>\n",
       "<table border=\"1\" class=\"dataframe\">\n",
       "  <thead>\n",
       "    <tr style=\"text-align: right;\">\n",
       "      <th></th>\n",
       "      <th>date</th>\n",
       "      <th>close</th>\n",
       "      <th>volume</th>\n",
       "      <th>open</th>\n",
       "      <th>high</th>\n",
       "      <th>low</th>\n",
       "    </tr>\n",
       "  </thead>\n",
       "  <tbody>\n",
       "    <tr>\n",
       "      <th>0</th>\n",
       "      <td>3/28/2013</td>\n",
       "      <td>58.51</td>\n",
       "      <td>1436742</td>\n",
       "      <td>57.12</td>\n",
       "      <td>58.55</td>\n",
       "      <td>57.0001</td>\n",
       "    </tr>\n",
       "    <tr>\n",
       "      <th>1</th>\n",
       "      <td>4/1/2013</td>\n",
       "      <td>57.02</td>\n",
       "      <td>1095631</td>\n",
       "      <td>58.65</td>\n",
       "      <td>58.65</td>\n",
       "      <td>56.9800</td>\n",
       "    </tr>\n",
       "    <tr>\n",
       "      <th>2</th>\n",
       "      <td>4/2/2013</td>\n",
       "      <td>57.16</td>\n",
       "      <td>839721</td>\n",
       "      <td>57.21</td>\n",
       "      <td>57.61</td>\n",
       "      <td>56.9400</td>\n",
       "    </tr>\n",
       "    <tr>\n",
       "      <th>3</th>\n",
       "      <td>4/3/2013</td>\n",
       "      <td>56.07</td>\n",
       "      <td>1268233</td>\n",
       "      <td>57.42</td>\n",
       "      <td>57.42</td>\n",
       "      <td>55.9000</td>\n",
       "    </tr>\n",
       "    <tr>\n",
       "      <th>4</th>\n",
       "      <td>4/4/2013</td>\n",
       "      <td>51.89</td>\n",
       "      <td>17965140</td>\n",
       "      <td>56.00</td>\n",
       "      <td>56.00</td>\n",
       "      <td>50.4000</td>\n",
       "    </tr>\n",
       "  </tbody>\n",
       "</table>\n",
       "</div>"
      ],
      "text/plain": [
       "        date  close    volume   open   high      low\n",
       "0  3/28/2013  58.51   1436742  57.12  58.55  57.0001\n",
       "1   4/1/2013  57.02   1095631  58.65  58.65  56.9800\n",
       "2   4/2/2013  57.16    839721  57.21  57.61  56.9400\n",
       "3   4/3/2013  56.07   1268233  57.42  57.42  55.9000\n",
       "4   4/4/2013  51.89  17965140  56.00  56.00  50.4000"
      ]
     },
     "execution_count": 5,
     "metadata": {},
     "output_type": "execute_result"
    }
   ],
   "source": [
    "dataset=pd.read_csv('tera_data_price_train.csv')\n",
    "dataset.head()"
   ]
  },
  {
   "cell_type": "code",
   "execution_count": 7,
   "metadata": {
    "collapsed": true
   },
   "outputs": [],
   "source": [
    "training_set =dataset.iloc[:,1:2].values\n"
   ]
  },
  {
   "cell_type": "markdown",
   "metadata": {},
   "source": [
    "We dont have missing values . No categorical variables present .\n",
    "We have created Training set and Test set. So we directly go to Scaling\n",
    "For RNN better Scaler is Normalizer Scaler\n",
    "\n",
    "### STEP 2: Data Preprocessing"
   ]
  },
  {
   "cell_type": "code",
   "execution_count": 9,
   "metadata": {},
   "outputs": [
    {
     "data": {
      "text/plain": [
       "array([[ 0.85155324],\n",
       "       [ 0.81622006],\n",
       "       [ 0.81953996],\n",
       "       ..., \n",
       "       [ 0.42992649],\n",
       "       [ 0.40241878],\n",
       "       [ 0.38297368]])"
      ]
     },
     "execution_count": 9,
     "metadata": {},
     "output_type": "execute_result"
    }
   ],
   "source": [
    "from sklearn.preprocessing import MinMaxScaler\n",
    "## We will have the Feature between values 0 and 1  ###########################\n",
    "sc= MinMaxScaler(feature_range=(0,1))\n",
    "training_set_scaled =sc.fit_transform(training_set)\n",
    "training_set_scaled"
   ]
  },
  {
   "cell_type": "markdown",
   "metadata": {},
   "source": []
  },
  {
   "cell_type": "markdown",
   "metadata": {},
   "source": [
    "### STEP 3: Creating Training set\n",
    "We will test training set using various time step. For that we have to test using K-Fold Cross Validation.\n",
    "K-Fold will get us perfect value for time step without overfirring."
   ]
  },
  {
   "cell_type": "code",
   "execution_count": 10,
   "metadata": {
    "collapsed": true
   },
   "outputs": [],
   "source": [
    "X_train=[]\n",
    "Y_train=[]\n",
    "for i in range(60,len(training_set_scaled)):\n",
    "    X_train.append(training_set_scaled[i-60:i])\n",
    "    Y_train.append(training_set_scaled[i])\n",
    "X_train,Y_train=np.array(X_train),np.array(Y_train)"
   ]
  },
  {
   "cell_type": "markdown",
   "metadata": {},
   "source": [
    "Currently we have 1 dimension. Now we can add other dimensions"
   ]
  },
  {
   "cell_type": "code",
   "execution_count": 11,
   "metadata": {
    "collapsed": true
   },
   "outputs": [],
   "source": [
    "X_train=X_train.reshape((X_train.shape[0],X_train.shape[1],1))"
   ]
  },
  {
   "cell_type": "markdown",
   "metadata": {},
   "source": [
    "### STEP 4: Creating RNN - Recurrent Neural Network"
   ]
  },
  {
   "cell_type": "code",
   "execution_count": 12,
   "metadata": {
    "collapsed": true
   },
   "outputs": [],
   "source": [
    "from keras.layers import Dense\n",
    "from keras.layers import Dropout\n",
    "from keras.layers import LSTM\n",
    "from keras.models import Sequential"
   ]
  },
  {
   "cell_type": "code",
   "execution_count": 13,
   "metadata": {
    "collapsed": true
   },
   "outputs": [],
   "source": [
    "## 4 Layers of LSTM in our output\n",
    "\n",
    "regressor=Sequential()\n",
    "regressor.add(LSTM(units=50,return_sequences=True,input_shape=(X_train.shape[1],1)))\n",
    "regressor.add(Dropout(rate=0.2))\n",
    "regressor.add(LSTM(units=50,return_sequences=True))\n",
    "regressor.add(Dropout(rate=0.2))\n",
    "regressor.add(LSTM(units=50,return_sequences=True))\n",
    "regressor.add(Dropout(rate=0.2))\n",
    "regressor.add(LSTM(units=50,return_sequences=False))\n",
    "regressor.add(Dropout(rate=0.2))"
   ]
  },
  {
   "cell_type": "code",
   "execution_count": 14,
   "metadata": {
    "collapsed": true
   },
   "outputs": [],
   "source": [
    "### Full connection Layer i.e ANN to RNN\n",
    "regressor.add(Dense(units=1))\n",
    "regressor.compile(optimizer='adam',loss='mean_squared_error')"
   ]
  },
  {
   "cell_type": "markdown",
   "metadata": {},
   "source": [
    "### STEP 5 : Training the network"
   ]
  },
  {
   "cell_type": "code",
   "execution_count": 15,
   "metadata": {},
   "outputs": [
    {
     "name": "stdout",
     "output_type": "stream",
     "text": [
      "Epoch 1/100\n",
      "1200/1200 [==============================] - 14s 12ms/step - loss: 0.0291\n",
      "Epoch 2/100\n",
      "1200/1200 [==============================] - 9s 7ms/step - loss: 0.0058\n",
      "Epoch 3/100\n",
      "1200/1200 [==============================] - 8s 7ms/step - loss: 0.0061\n",
      "Epoch 4/100\n",
      "1200/1200 [==============================] - 8s 7ms/step - loss: 0.0056\n",
      "Epoch 5/100\n",
      "1200/1200 [==============================] - 9s 7ms/step - loss: 0.0044\n",
      "Epoch 6/100\n",
      "1200/1200 [==============================] - 8s 7ms/step - loss: 0.0043\n",
      "Epoch 7/100\n",
      "1200/1200 [==============================] - 8s 7ms/step - loss: 0.0043\n",
      "Epoch 8/100\n",
      "1200/1200 [==============================] - 8s 7ms/step - loss: 0.0041\n",
      "Epoch 9/100\n",
      "1200/1200 [==============================] - 8s 7ms/step - loss: 0.0038\n",
      "Epoch 10/100\n",
      "1200/1200 [==============================] - 8s 7ms/step - loss: 0.0038\n",
      "Epoch 11/100\n",
      "1200/1200 [==============================] - 8s 7ms/step - loss: 0.0032\n",
      "Epoch 12/100\n",
      "1200/1200 [==============================] - 8s 7ms/step - loss: 0.0035\n",
      "Epoch 13/100\n",
      "1200/1200 [==============================] - 8s 7ms/step - loss: 0.0033\n",
      "Epoch 14/100\n",
      "1200/1200 [==============================] - 8s 7ms/step - loss: 0.0031\n",
      "Epoch 15/100\n",
      "1200/1200 [==============================] - 8s 7ms/step - loss: 0.0036\n",
      "Epoch 16/100\n",
      "1200/1200 [==============================] - 8s 7ms/step - loss: 0.0027\n",
      "Epoch 17/100\n",
      "1200/1200 [==============================] - 8s 7ms/step - loss: 0.0028\n",
      "Epoch 18/100\n",
      "1200/1200 [==============================] - 8s 7ms/step - loss: 0.0028\n",
      "Epoch 19/100\n",
      "1200/1200 [==============================] - 8s 7ms/step - loss: 0.0029\n",
      "Epoch 20/100\n",
      "1200/1200 [==============================] - 8s 7ms/step - loss: 0.0029\n",
      "Epoch 21/100\n",
      "1200/1200 [==============================] - 8s 7ms/step - loss: 0.0027\n",
      "Epoch 22/100\n",
      "1200/1200 [==============================] - 8s 7ms/step - loss: 0.0028\n",
      "Epoch 23/100\n",
      "1200/1200 [==============================] - 8s 7ms/step - loss: 0.0025\n",
      "Epoch 24/100\n",
      "1200/1200 [==============================] - 8s 7ms/step - loss: 0.0026\n",
      "Epoch 25/100\n",
      "1200/1200 [==============================] - 8s 7ms/step - loss: 0.0021\n",
      "Epoch 26/100\n",
      "1200/1200 [==============================] - 8s 7ms/step - loss: 0.0021\n",
      "Epoch 27/100\n",
      "1200/1200 [==============================] - 8s 7ms/step - loss: 0.0027\n",
      "Epoch 28/100\n",
      "1200/1200 [==============================] - 8s 7ms/step - loss: 0.0022\n",
      "Epoch 29/100\n",
      "1200/1200 [==============================] - 8s 7ms/step - loss: 0.0020\n",
      "Epoch 30/100\n",
      "1200/1200 [==============================] - 8s 7ms/step - loss: 0.0021\n",
      "Epoch 31/100\n",
      "1200/1200 [==============================] - 8s 7ms/step - loss: 0.0021\n",
      "Epoch 32/100\n",
      "1200/1200 [==============================] - 8s 7ms/step - loss: 0.0022\n",
      "Epoch 33/100\n",
      "1200/1200 [==============================] - 9s 7ms/step - loss: 0.0020\n",
      "Epoch 34/100\n",
      "1200/1200 [==============================] - 10s 9ms/step - loss: 0.0023\n",
      "Epoch 35/100\n",
      "1200/1200 [==============================] - 11s 9ms/step - loss: 0.0021\n",
      "Epoch 36/100\n",
      "1200/1200 [==============================] - 8s 6ms/step - loss: 0.0020\n",
      "Epoch 37/100\n",
      "1200/1200 [==============================] - 8s 7ms/step - loss: 0.0020\n",
      "Epoch 38/100\n",
      "1200/1200 [==============================] - 10s 8ms/step - loss: 0.0020\n",
      "Epoch 39/100\n",
      "1200/1200 [==============================] - 9s 7ms/step - loss: 0.0017\n",
      "Epoch 40/100\n",
      "1200/1200 [==============================] - 9s 8ms/step - loss: 0.0020\n",
      "Epoch 41/100\n",
      "1200/1200 [==============================] - 9s 8ms/step - loss: 0.0019\n",
      "Epoch 42/100\n",
      "1200/1200 [==============================] - 11s 9ms/step - loss: 0.0019: 4s \n",
      "Epoch 43/100\n",
      "1200/1200 [==============================] - 9s 8ms/step - loss: 0.0019\n",
      "Epoch 44/100\n",
      "1200/1200 [==============================] - 9s 7ms/step - loss: 0.0018\n",
      "Epoch 45/100\n",
      "1200/1200 [==============================] - 10s 8ms/step - loss: 0.0016\n",
      "Epoch 46/100\n",
      "1200/1200 [==============================] - 9s 7ms/step - loss: 0.0015\n",
      "Epoch 47/100\n",
      "1200/1200 [==============================] - 9s 7ms/step - loss: 0.0017\n",
      "Epoch 48/100\n",
      "1200/1200 [==============================] - 10s 8ms/step - loss: 0.0016\n",
      "Epoch 49/100\n",
      "1200/1200 [==============================] - 8s 6ms/step - loss: 0.0015\n",
      "Epoch 50/100\n",
      "1200/1200 [==============================] - 8s 6ms/step - loss: 0.0015\n",
      "Epoch 51/100\n",
      "1200/1200 [==============================] - 9s 8ms/step - loss: 0.0017\n",
      "Epoch 52/100\n",
      "1200/1200 [==============================] - 8s 6ms/step - loss: 0.0016A: 1s - loss:\n",
      "Epoch 53/100\n",
      "1200/1200 [==============================] - 8s 7ms/step - loss: 0.0017\n",
      "Epoch 54/100\n",
      "1200/1200 [==============================] - 9s 7ms/step - loss: 0.0015\n",
      "Epoch 55/100\n",
      "1200/1200 [==============================] - 8s 6ms/step - loss: 0.0016\n",
      "Epoch 56/100\n",
      "1200/1200 [==============================] - 10s 8ms/step - loss: 0.0015\n",
      "Epoch 57/100\n",
      "1200/1200 [==============================] - 8s 6ms/step - loss: 0.0018\n",
      "Epoch 58/100\n",
      "1200/1200 [==============================] - 9s 8ms/step - loss: 0.0016\n",
      "Epoch 59/100\n",
      "1200/1200 [==============================] - 8s 6ms/step - loss: 0.0015\n",
      "Epoch 60/100\n",
      "1200/1200 [==============================] - 8s 7ms/step - loss: 0.0014\n",
      "Epoch 61/100\n",
      "1200/1200 [==============================] - 9s 8ms/step - loss: 0.0016\n",
      "Epoch 62/100\n",
      "1200/1200 [==============================] - 9s 7ms/step - loss: 0.0013\n",
      "Epoch 63/100\n",
      "1200/1200 [==============================] - 9s 8ms/step - loss: 0.0013\n",
      "Epoch 64/100\n",
      "1200/1200 [==============================] - 10s 9ms/step - loss: 0.0013\n",
      "Epoch 65/100\n",
      "1200/1200 [==============================] - 8s 7ms/step - loss: 0.0013\n",
      "Epoch 66/100\n",
      "1200/1200 [==============================] - 9s 8ms/step - loss: 0.0014\n",
      "Epoch 67/100\n",
      "1200/1200 [==============================] - 10s 8ms/step - loss: 0.0012\n",
      "Epoch 68/100\n",
      "1200/1200 [==============================] - 8s 6ms/step - loss: 0.0014\n",
      "Epoch 69/100\n",
      "1200/1200 [==============================] - 8s 7ms/step - loss: 0.0012\n",
      "Epoch 70/100\n",
      "1200/1200 [==============================] - 11s 9ms/step - loss: 0.0012\n",
      "Epoch 71/100\n",
      "1200/1200 [==============================] - 9s 8ms/step - loss: 0.0013\n",
      "Epoch 72/100\n",
      "1200/1200 [==============================] - 8s 7ms/step - loss: 0.0015\n",
      "Epoch 73/100\n",
      "1200/1200 [==============================] - 10s 8ms/step - loss: 0.0013\n",
      "Epoch 74/100\n",
      "1200/1200 [==============================] - 8s 7ms/step - loss: 0.0011\n",
      "Epoch 75/100\n",
      "1200/1200 [==============================] - 9s 8ms/step - loss: 0.0015\n",
      "Epoch 76/100\n",
      "1200/1200 [==============================] - 11s 9ms/step - loss: 0.0013\n",
      "Epoch 77/100\n",
      "1200/1200 [==============================] - 10s 8ms/step - loss: 0.0011\n",
      "Epoch 78/100\n",
      "1200/1200 [==============================] - 10s 8ms/step - loss: 0.0013: 1s - loss: \n",
      "Epoch 79/100\n",
      "1200/1200 [==============================] - 8s 7ms/step - loss: 0.0011\n",
      "Epoch 80/100\n",
      "1200/1200 [==============================] - 10s 8ms/step - loss: 0.0012\n",
      "Epoch 81/100\n",
      "1200/1200 [==============================] - 9s 8ms/step - loss: 0.0011\n",
      "Epoch 82/100\n",
      "1200/1200 [==============================] - 10s 8ms/step - loss: 0.0012\n",
      "Epoch 83/100\n",
      "1200/1200 [==============================] - 8s 7ms/step - loss: 0.0011\n",
      "Epoch 84/100\n",
      "1200/1200 [==============================] - 11s 9ms/step - loss: 0.0012\n",
      "Epoch 85/100\n",
      "1200/1200 [==============================] - 8s 7ms/step - loss: 0.0010\n",
      "Epoch 86/100\n",
      "1200/1200 [==============================] - 10s 8ms/step - loss: 0.0010\n",
      "Epoch 87/100\n",
      "1200/1200 [==============================] - 9s 8ms/step - loss: 0.0011\n",
      "Epoch 88/100\n",
      "1200/1200 [==============================] - 9s 8ms/step - loss: 0.0010\n",
      "Epoch 89/100\n",
      "1200/1200 [==============================] - 11s 9ms/step - loss: 0.0011\n",
      "Epoch 90/100\n",
      "1200/1200 [==============================] - 9s 7ms/step - loss: 0.0010\n",
      "Epoch 91/100\n",
      "1200/1200 [==============================] - 8s 7ms/step - loss: 0.0011\n",
      "Epoch 92/100\n",
      "1200/1200 [==============================] - 9s 8ms/step - loss: 0.0012\n",
      "Epoch 93/100\n",
      "1200/1200 [==============================] - 8s 7ms/step - loss: 0.0011\n",
      "Epoch 94/100\n",
      "1200/1200 [==============================] - 11s 9ms/step - loss: 9.6702e-04\n",
      "Epoch 95/100\n",
      "1200/1200 [==============================] - 9s 8ms/step - loss: 0.0010\n",
      "Epoch 96/100\n",
      "1200/1200 [==============================] - 10s 8ms/step - loss: 0.0011\n",
      "Epoch 97/100\n",
      "1200/1200 [==============================] - 10s 8ms/step - loss: 0.0010\n",
      "Epoch 98/100\n",
      "1200/1200 [==============================] - 11s 9ms/step - loss: 0.0011\n",
      "Epoch 99/100\n",
      "1200/1200 [==============================] - 9s 8ms/step - loss: 0.0011\n",
      "Epoch 100/100\n",
      "1200/1200 [==============================] - 10s 9ms/step - loss: 0.0010 ETA: 0s - loss: 0.0010   \n"
     ]
    },
    {
     "data": {
      "text/plain": [
       "<keras.callbacks.History at 0x11e3ed2b588>"
      ]
     },
     "execution_count": 15,
     "metadata": {},
     "output_type": "execute_result"
    }
   ],
   "source": [
    "regressor.fit(X_train,Y_train,batch_size=32,epochs=100)"
   ]
  },
  {
   "cell_type": "code",
   "execution_count": 22,
   "metadata": {
    "collapsed": true
   },
   "outputs": [],
   "source": [
    "dataset_test=pd.read_csv('tera_data_price_test.csv')\n",
    "test_set_real =dataset_test.iloc[:,1:2].values"
   ]
  },
  {
   "cell_type": "markdown",
   "metadata": {},
   "source": [
    "### STEP 6: Predicting prices for given test data"
   ]
  },
  {
   "cell_type": "code",
   "execution_count": 23,
   "metadata": {
    "collapsed": true
   },
   "outputs": [],
   "source": [
    "# to predict we need both test and training set\n",
    "dataset_total=pd.concat([dataset,dataset_test],axis=0)"
   ]
  },
  {
   "cell_type": "code",
   "execution_count": 24,
   "metadata": {
    "collapsed": true
   },
   "outputs": [],
   "source": [
    "dataset_total.reset_index(drop=True,inplace=True)"
   ]
  },
  {
   "cell_type": "code",
   "execution_count": 29,
   "metadata": {},
   "outputs": [
    {
     "data": {
      "text/plain": [
       "105"
      ]
     },
     "execution_count": 29,
     "metadata": {},
     "output_type": "execute_result"
    }
   ],
   "source": [
    "input_data=dataset_total[len(dataset_total)-len(dataset_test)-60:]\n",
    "input_data=input_data.iloc[:,1:2].values\n",
    "input_data=sc.transform(input_data)\n",
    "len(input_data)"
   ]
  },
  {
   "cell_type": "code",
   "execution_count": 32,
   "metadata": {
    "collapsed": true
   },
   "outputs": [],
   "source": [
    "x_test=[]\n",
    "for i in range(60,105):\n",
    "    x_test.append(input_data[i-60:i,0])\n",
    "x_test=np.array(x_test)\n",
    "x_test=x_test.reshape((x_test.shape[0],x_test.shape[1],1))\n",
    "test_set_pred= regressor.predict(x_test)\n",
    "test_set_pred=sc.inverse_transform(test_set_pred)"
   ]
  },
  {
   "cell_type": "markdown",
   "metadata": {},
   "source": [
    "### STEP 7: Plotting actual prices and predicted prices "
   ]
  },
  {
   "cell_type": "code",
   "execution_count": 36,
   "metadata": {},
   "outputs": [
    {
     "data": {
      "image/png": "[encoded data removed]",
      "text/plain": [
       "<matplotlib.figure.Figure at 0x11e49d30e10>"
      ]
     },
     "metadata": {},
     "output_type": "display_data"
    }
   ],
   "source": [
    "plt.plot(test_set_real,label=\"Real\")\n",
    "plt.plot(test_set_pred,label=\"Predicted\")\n",
    "plt.legend()\n",
    "plt.xticks(np.arange(0,len(test_set_pred)))\n",
    "plt.xlabel(\"Days\")\n",
    "plt.yticks(np.arange(min(min(test_set_pred),min(test_set_real)),max(max(test_set_pred),max(test_set_real)),10))\n",
    "plt.ylabel(\"Price\")\n",
    "plt.title(\"Comparing Original Stock price and Predicted price for latest 45 days\")\n",
    "plt.show()"
   ]
  }
 ],
 "metadata": {
  "kernelspec": {
   "display_name": "Python 3",
   "language": "python",
   "name": "python3"
  },
  "language_info": {
   "codemirror_mode": {
    "name": "ipython",
    "version": 3
   },
   "file_extension": ".py",
   "mimetype": "text/x-python",
   "name": "python",
   "nbconvert_exporter": "python",
   "pygments_lexer": "ipython3",
   "version": "3.6.3"
  }
 },
 "nbformat": 4,
 "nbformat_minor": 2
}
